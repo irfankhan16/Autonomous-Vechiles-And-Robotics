{
  "nbformat": 4,
  "nbformat_minor": 0,
  "metadata": {
    "colab": {
      "provenance": []
    },
    "kernelspec": {
      "name": "python3",
      "display_name": "Python 3"
    },
    "language_info": {
      "name": "python"
    }
  },
  "cells": [
    {
      "cell_type": "code",
      "execution_count": null,
      "metadata": {
        "colab": {
          "base_uri": "https://localhost:8080/",
          "height": 526
        },
        "id": "vSymiKFCUB3D",
        "outputId": "770a562b-e90a-4399-baff-1fd98bd388ca"
      },
      "outputs": [
        {
          "output_type": "display_data",
          "data": {
            "text/plain": [
              "<Figure size 600x600 with 1 Axes>"
            ],
            "image/png": "[encoded data removed]"
          },
          "metadata": {}
        }
      ],
      "source": [
        "import matplotlib.pyplot as plt\n",
        "from collections import deque\n",
        "\n",
        "# Grid size\n",
        "ROWS, COLS = 6, 6\n",
        "\n",
        "# Define obstacles\n",
        "obstacles = {(1, 1), (2, 2), (3, 1), (4, 3), (1, 4)}\n",
        "\n",
        "# Start and goal positions\n",
        "start = (0, 0)\n",
        "goal = (5, 5)\n",
        "\n",
        "def is_valid(r, c):\n",
        "    return 0 <= r < ROWS and 0 <= c < COLS and (r, c) not in obstacles\n",
        "\n",
        "# Get valid neighbors\n",
        "def get_neighbors(pos):\n",
        "    r, c = pos\n",
        "    directions = [(-1, 0), (1, 0), (0, -1), (0, 1)]\n",
        "    return [(r+dr, c+dc) for dr, dc in directions if is_valid(r+dr, c+dc)]\n",
        "\n",
        "# Breadth-First Search (BFS)\n",
        "def bfs(start, goal):\n",
        "    queue = deque([start])\n",
        "    visited = set([start])\n",
        "    parent = {start: None}\n",
        "\n",
        "    while queue:\n",
        "        current = queue.popleft()\n",
        "        if current == goal:\n",
        "            break\n",
        "        for neighbor in get_neighbors(current):\n",
        "            if neighbor not in visited:\n",
        "                visited.add(neighbor)\n",
        "                parent[neighbor] = current\n",
        "                queue.append(neighbor)\n",
        "\n",
        "    # Reconstruct path\n",
        "    path = []\n",
        "    cur = goal\n",
        "    while cur:\n",
        "        path.append(cur)\n",
        "        cur = parent.get(cur)\n",
        "    return path[::-1] if path[-1] == start else []\n",
        "\n",
        "# Compute path\n",
        "path = bfs(start, goal)\n",
        "\n",
        "# Visualization\n",
        "def draw_grid(path):\n",
        "    fig, ax = plt.subplots(figsize=(6, 6))\n",
        "    for r in range(ROWS):\n",
        "        for c in range(COLS):\n",
        "            color = 'white'\n",
        "            if (r, c) in obstacles:\n",
        "                color = 'black'\n",
        "            elif (r, c) == start:\n",
        "                color = 'green'\n",
        "            elif (r, c) == goal:\n",
        "                color = 'red'\n",
        "            elif (r, c) in path:\n",
        "                color = 'blue'\n",
        "            ax.add_patch(plt.Rectangle((c, ROWS - 1 - r), 1, 1, color=color, ec='gray'))\n",
        "\n",
        "    ax.set_xlim(0, COLS)\n",
        "    ax.set_ylim(0, ROWS)\n",
        "    ax.set_xticks(range(COLS + 1))\n",
        "    ax.set_yticks(range(ROWS + 1))\n",
        "    ax.set_xticklabels([])\n",
        "    ax.set_yticklabels([])\n",
        "    ax.grid(True)\n",
        "    ax.set_aspect('equal')\n",
        "    plt.title(\"Autonomous Robot Path Visualization\")\n",
        "    plt.show()\n",
        "\n",
        "# Draw the result\n",
        "draw_grid(path)"
      ]
    }
  ]
}